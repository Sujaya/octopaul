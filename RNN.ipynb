{
 "cells": [
  {
   "cell_type": "code",
   "execution_count": 171,
   "metadata": {
    "collapsed": false
   },
   "outputs": [],
   "source": [
    "import numpy as np\n",
    "import matplotlib.pyplot as plt\n",
    "import pandas as pd\n",
    "import math\n",
    "from keras.models import Sequential\n",
    "from keras.layers import Dense\n",
    "from keras.layers import LSTM\n",
    "from sklearn.preprocessing import MinMaxScaler\n",
    "from sklearn.metrics import mean_squared_error, mean_absolute_error\n",
    "import csv\n",
    "from itertools import izip"
   ]
  },
  {
   "cell_type": "code",
   "execution_count": 172,
   "metadata": {
    "collapsed": true
   },
   "outputs": [],
   "source": [
    "# load the dataset\n",
    "dataframe = pd.read_csv('prices2.csv', usecols=[1], engine='python')\n",
    "dataset = dataframe.values\n",
    "dataset = dataset.astype('float32')"
   ]
  },
  {
   "cell_type": "code",
   "execution_count": 173,
   "metadata": {
    "collapsed": true
   },
   "outputs": [],
   "source": [
    "\n",
    "# normalize the dataset\n",
    "scaler = MinMaxScaler(feature_range=(0, 1))\n",
    "dataset = scaler.fit_transform(dataset)"
   ]
  },
  {
   "cell_type": "code",
   "execution_count": 174,
   "metadata": {
    "collapsed": false
   },
   "outputs": [
    {
     "name": "stdout",
     "output_type": "stream",
     "text": [
      "(191, 95)\n"
     ]
    }
   ],
   "source": [
    "# split into train and test sets\n",
    "train_size = int(len(dataset) * 0.67)\n",
    "test_size = len(dataset) - train_size\n",
    "train, test = dataset[0:train_size,:], dataset[train_size:len(dataset),:]\n",
    "print(len(train), len(test))"
   ]
  },
  {
   "cell_type": "code",
   "execution_count": 175,
   "metadata": {
    "collapsed": false
   },
   "outputs": [],
   "source": [
    "# convert an array of values into a dataset matrix\n",
    "def create_dataset(dataset, look_back=1):\n",
    "    dataX, dataY = [], []\n",
    "    for i in range(len(dataset)-look_back-1):\n",
    "        a = dataset[i:(i+look_back), 0]\n",
    "        dataX.append(a)\n",
    "        dataY.append(dataset[i + look_back, 0])\n",
    "    return numpy.array(dataX), numpy.array(dataY)"
   ]
  },
  {
   "cell_type": "code",
   "execution_count": 176,
   "metadata": {
    "collapsed": false
   },
   "outputs": [],
   "source": [
    "# reshape into X=t and Y=t+1\n",
    "look_back = 10\n",
    "trainX, trainY = create_dataset(train, look_back)\n",
    "testX, testY = create_dataset(test, look_back)"
   ]
  },
  {
   "cell_type": "code",
   "execution_count": 177,
   "metadata": {
    "collapsed": false
   },
   "outputs": [],
   "source": [
    "def reshape_data(data):\n",
    "    # reshape input to be [samples, time steps, features]\n",
    "    data = numpy.reshape(data, (data.shape[0], 1, data.shape[1]))\n",
    "    return data"
   ]
  },
  {
   "cell_type": "code",
   "execution_count": 178,
   "metadata": {
    "collapsed": false
   },
   "outputs": [
    {
     "name": "stdout",
     "output_type": "stream",
     "text": [
      "Epoch 1/20\n",
      "3s - loss: 0.2739\n",
      "Epoch 2/20\n",
      "1s - loss: 0.0786\n",
      "Epoch 3/20\n",
      "1s - loss: 0.0774\n",
      "Epoch 4/20\n",
      "1s - loss: 0.0763\n",
      "Epoch 5/20\n",
      "1s - loss: 0.0757\n",
      "Epoch 6/20\n",
      "1s - loss: 0.0731\n",
      "Epoch 7/20\n",
      "1s - loss: 0.0716\n",
      "Epoch 8/20\n",
      "1s - loss: 0.0716\n",
      "Epoch 9/20\n",
      "1s - loss: 0.0701\n",
      "Epoch 10/20\n",
      "1s - loss: 0.0697\n",
      "Epoch 11/20\n",
      "1s - loss: 0.0688\n",
      "Epoch 12/20\n",
      "1s - loss: 0.0688\n",
      "Epoch 13/20\n",
      "2s - loss: 0.0678\n",
      "Epoch 14/20\n",
      "4s - loss: 0.0669\n",
      "Epoch 15/20\n",
      "2s - loss: 0.0672\n",
      "Epoch 16/20\n",
      "1s - loss: 0.0661\n",
      "Epoch 17/20\n",
      "1s - loss: 0.0660\n",
      "Epoch 18/20\n",
      "1s - loss: 0.0656\n",
      "Epoch 19/20\n",
      "1s - loss: 0.0655\n",
      "Epoch 20/20\n",
      "1s - loss: 0.0650\n"
     ]
    },
    {
     "data": {
      "text/plain": [
       "<keras.callbacks.History at 0x1426d3f50>"
      ]
     },
     "execution_count": 178,
     "metadata": {},
     "output_type": "execute_result"
    }
   ],
   "source": [
    "# create and fit the LSTM network\n",
    "model = Sequential()\n",
    "model.add(LSTM(4, input_dim=look_back))\n",
    "model.add(Dense(1))\n",
    "model.compile(loss='mean_absolute_error', optimizer='adam')\n",
    "\n",
    "trainX = reshape_data(trainX)\n",
    "testX = reshape_data(testX)\n",
    "model.fit(trainX, trainY, nb_epoch=20, batch_size=1, verbose=2)"
   ]
  },
  {
   "cell_type": "code",
   "execution_count": 179,
   "metadata": {
    "collapsed": false
   },
   "outputs": [],
   "source": [
    "# make predictions\n",
    "trainPredict = model.predict(trainX, batch_size=10)\n",
    "testPredict = model.predict(testX, batch_size=10)\n",
    "# invert predictions\n",
    "trainPredict = scaler.inverse_transform(trainPredict)\n",
    "trainY = scaler.inverse_transform([trainY])\n",
    "testPredict = scaler.inverse_transform(testPredict)\n",
    "testY = scaler.inverse_transform([testY])\n"
   ]
  },
  {
   "cell_type": "code",
   "execution_count": 180,
   "metadata": {
    "collapsed": false
   },
   "outputs": [
    {
     "name": "stdout",
     "output_type": "stream",
     "text": [
      "Train Score: 0.61 MAE\n",
      "Test Score: 0.75 MAE\n"
     ]
    }
   ],
   "source": [
    "# calculate root mean squared error\n",
    "trainScore = mean_absolute_error(trainY[0], trainPredict[:,0])\n",
    "print('Train Score: %.2f MAE' % (trainScore))\n",
    "testScore = mean_absolute_error(testY[0], testPredict[:,0])\n",
    "print('Test Score: %.2f MAE' % (testScore))"
   ]
  },
  {
   "cell_type": "code",
   "execution_count": 181,
   "metadata": {
    "collapsed": false
   },
   "outputs": [
    {
     "data": {
      "image/png": "[encoded data removed]",
      "text/plain": [
       "<matplotlib.figure.Figure at 0x143502110>"
      ]
     },
     "metadata": {},
     "output_type": "display_data"
    }
   ],
   "source": [
    "# shift train predictions for plotting\n",
    "trainPredictPlot = numpy.empty_like(dataset)\n",
    "trainPredictPlot[:, :] = numpy.nan\n",
    "trainPredictPlot[look_back:len(trainPredict)+look_back, :] = trainPredict\n",
    "# shift test predictions for plotting\n",
    "testPredictPlot = numpy.empty_like(dataset)\n",
    "testPredictPlot[:, :] = numpy.nan\n",
    "testPredictPlot[len(trainPredict)+(look_back*2)+1:len(dataset)-1, :] = testPredict\n",
    "# plot baseline and predictions\n",
    "plt.plot(scaler.inverse_transform(dataset))\n",
    "plt.plot(trainPredictPlot)\n",
    "plt.plot(testPredictPlot)\n",
    "plt.show()"
   ]
  },
  {
   "cell_type": "code",
   "execution_count": 170,
   "metadata": {
    "collapsed": false
   },
   "outputs": [
    {
     "name": "stdout",
     "output_type": "stream",
     "text": [
      "94 94\n"
     ]
    }
   ],
   "source": [
    "# convert an array of values into a dataset matrix\n",
    "def get_data(dataset, look_back=1):\n",
    "    dataX, dataY = [], []\n",
    "    for i in range(len(dataset)-look_back-1):\n",
    "        tmp1 = dataset[i:(i+look_back)] \n",
    "        dataX.append(tmp1)\n",
    "        tmp2 = dataset[i + look_back] \n",
    "        dataY.append(tmp2)\n",
    "    return numpy.array(dataX), numpy.array(dataY)\n",
    "\n",
    "print len(testPredict), len(testX)\n",
    "tmpArr = test\n",
    "for i in xrange(10):\n",
    "    tmpArr = np.append(tmpArr, testPredict[-1])\n",
    "    #print type(tmpArr), tmpArr\n",
    "    testX, testY = get_data(tmpArr, look_back)\n",
    "    testX = reshape_data(testX)\n",
    "    testPredict = model.predict(testX)\n",
    "\n",
    "testPredict = scaler.inverse_transform(testPredict)\n",
    "testY = scaler.inverse_transform([testY])\n",
    "#print len(testPredict)\n",
    "with open(\"rnn_predict.csv\", 'wb') as f:\n",
    "    writer = csv.writer(f)\n",
    "    writer.writerows(izip(testY[0], testPredict))"
   ]
  },
  {
   "cell_type": "code",
   "execution_count": 153,
   "metadata": {
    "collapsed": false
   },
   "outputs": [
    {
     "name": "stdout",
     "output_type": "stream",
     "text": [
      "[[ 0.46373856]\n",
      " [ 0.46373856]\n",
      " [ 0.46373856]\n",
      " [ 0.46373856]\n",
      " [ 0.46373856]\n",
      " [ 0.46373856]\n",
      " [ 0.46373856]\n",
      " [ 0.46373856]\n",
      " [ 0.46373856]\n",
      " [ 0.46373856]\n",
      " [ 0.46373856]\n",
      " [ 0.59141982]\n",
      " [ 0.59141982]\n",
      " [ 0.59141982]\n",
      " [ 0.59141982]\n",
      " [ 0.59141982]\n",
      " [ 0.32073545]\n",
      " [ 0.27987754]\n",
      " [ 0.18692553]\n",
      " [ 0.147089  ]\n",
      " [ 0.28498471]\n",
      " [ 0.28498471]\n",
      " [ 0.59141982]\n",
      " [ 0.59141982]\n",
      " [ 0.59141982]\n",
      " [ 0.57711971]\n",
      " [ 0.59039843]\n",
      " [ 0.56179798]\n",
      " [ 0.55771196]\n",
      " [ 0.59039843]\n",
      " [ 0.39632285]\n",
      " [ 0.44024527]\n",
      " [ 0.32482123]\n",
      " [ 0.44024527]\n",
      " [ 0.39734435]\n",
      " [ 0.48825336]\n",
      " [ 0.24616969]\n",
      " [ 0.59141982]\n",
      " [ 0.22778356]\n",
      " [ 0.59141982]\n",
      " [ 0.37793672]\n",
      " [ 0.37997961]\n",
      " [ 0.58426964]\n",
      " [ 0.51583254]\n",
      " [ 0.51174664]\n",
      " [ 0.35342193]\n",
      " [ 0.59141982]\n",
      " [ 0.55873334]\n",
      " [ 0.58222687]\n",
      " [ 0.59141982]\n",
      " [ 0.55566895]\n",
      " [ 0.59141982]\n",
      " [ 0.57711971]\n",
      " [ 0.59141982]\n",
      " [ 0.59039843]\n",
      " [ 0.59039843]\n",
      " [ 0.59039843]\n",
      " [ 0.59039843]\n",
      " [ 0.50766098]\n",
      " [ 0.59141982]\n",
      " [ 0.59141982]\n",
      " [ 0.59141982]\n",
      " [ 0.59141982]\n",
      " [ 0.59141982]\n",
      " [ 0.59141982]\n",
      " [ 0.58120525]\n",
      " [ 0.59141982]\n",
      " [ 0.59141982]\n",
      " [ 0.59141982]\n",
      " [ 0.59141982]\n",
      " [ 0.59141982]\n",
      " [ 0.59141982]\n",
      " [ 0.59141982]\n",
      " [ 0.59141982]\n",
      " [ 0.59141982]\n",
      " [ 0.59141982]\n",
      " [ 1.00000012]\n",
      " [ 0.59141982]\n",
      " [ 0.59141982]\n",
      " [ 0.59141982]\n",
      " [ 0.59141982]\n",
      " [ 0.48927486]\n",
      " [ 0.59141982]\n",
      " [ 0.59141982]\n",
      " [ 0.59141982]\n",
      " [ 0.46373856]\n",
      " [ 0.59141982]\n",
      " [ 0.46373856]\n",
      " [ 0.33605719]\n",
      " [ 0.46373856]\n",
      " [ 0.46373856]\n",
      " [ 0.46373856]\n",
      " [ 0.01940763]\n",
      " [ 0.59141982]\n",
      " [ 0.59141982]]\n"
     ]
    }
   ],
   "source": []
  },
  {
   "cell_type": "code",
   "execution_count": null,
   "metadata": {
    "collapsed": true
   },
   "outputs": [],
   "source": []
  }
 ],
 "metadata": {
  "anaconda-cloud": {},
  "kernelspec": {
   "display_name": "Python [default]",
   "language": "python",
   "name": "python2"
  },
  "language_info": {
   "codemirror_mode": {
    "name": "ipython",
    "version": 2
   },
   "file_extension": ".py",
   "mimetype": "text/x-python",
   "name": "python",
   "nbconvert_exporter": "python",
   "pygments_lexer": "ipython2",
   "version": "2.7.12"
  }
 },
 "nbformat": 4,
 "nbformat_minor": 1
}
